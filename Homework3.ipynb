{
 "cells": [
  {
   "cell_type": "markdown",
   "metadata": {},
   "source": [
    "# Домашнее задание № 3\n",
    "\n",
    "### Выполнил Кузнецов С.И."
   ]
  },
  {
   "cell_type": "markdown",
   "metadata": {},
   "source": [
    "Реализуем следующий гибридный алгоритм:\n",
    "1. Обучим модель 3мя методами:\n",
    "    * SVD\n",
    "    * BaselineOnly\n",
    "    * KNNWithMeans\n",
    "2. Обучим мета-алгоритм, который присвоит веса каждой оценке\n",
    "3. Итоговая оценка - средневзвешенная оценка этих 3х алгоритмов"
   ]
  },
  {
   "cell_type": "code",
   "execution_count": 1,
   "metadata": {},
   "outputs": [],
   "source": [
    "import numpy as np\n",
    "import pandas as pd\n",
    "from surprise import SVD, BaselineOnly, KNNWithMeans\n",
    "from surprise import Dataset\n",
    "from surprise import accuracy\n",
    "from surprise import Reader\n",
    "from surprise.model_selection import train_test_split\n",
    "from lightfm.datasets import fetch_movielens\n",
    "from sklearn.linear_model import LinearRegression\n",
    "from sklearn.metrics import mean_squared_error\n",
    "import math"
   ]
  },
  {
   "cell_type": "markdown",
   "metadata": {},
   "source": [
    "Загружаем данные"
   ]
  },
  {
   "cell_type": "code",
   "execution_count": 2,
   "metadata": {},
   "outputs": [],
   "source": [
    "movielens = fetch_movielens()\n",
    "train = movielens['train']\n",
    "test = movielens['test']"
   ]
  },
  {
   "cell_type": "code",
   "execution_count": 3,
   "metadata": {},
   "outputs": [],
   "source": [
    "def sparse_matrix_to_dataframe(sparse_matrix):\n",
    "    '''\n",
    "    Преобразует разреженную матрицу к dataframe\n",
    "    '''\n",
    "    return pd.DataFrame({\n",
    "        'uid': sparse_matrix.nonzero()[0],\n",
    "        'iid': sparse_matrix.nonzero()[1],\n",
    "        'rating': sparse_matrix.data\n",
    "    })"
   ]
  },
  {
   "cell_type": "markdown",
   "metadata": {},
   "source": [
    "Разбиваем выборку на обучающую, тестовую для мета-алгоритма и итоговую тестовую"
   ]
  },
  {
   "cell_type": "code",
   "execution_count": 4,
   "metadata": {},
   "outputs": [],
   "source": [
    "reader = Reader(rating_scale=(1.0, 5.0))\n",
    "train_test_df = Dataset.load_from_df(sparse_matrix_to_dataframe(train), reader)\n",
    "_, test_total_df = train_test_split(Dataset.load_from_df(sparse_matrix_to_dataframe(test), reader), test_size=1.0)\n",
    "train_df, test_meta_df = train_test_split(train_test_df, test_size=.2)"
   ]
  },
  {
   "cell_type": "markdown",
   "metadata": {},
   "source": [
    "**Обучаем алгоритмы**"
   ]
  },
  {
   "cell_type": "markdown",
   "metadata": {},
   "source": [
    "Алгоритм SVD:"
   ]
  },
  {
   "cell_type": "code",
   "execution_count": 5,
   "metadata": {},
   "outputs": [
    {
     "name": "stdout",
     "output_type": "stream",
     "text": [
      "CPU times: user 17.8 s, sys: 70.6 ms, total: 17.9 s\n",
      "Wall time: 20.5 s\n"
     ]
    }
   ],
   "source": [
    "%%time\n",
    "algo_SVD = SVD()\n",
    "algo_SVD.fit(train_df)"
   ]
  },
  {
   "cell_type": "markdown",
   "metadata": {},
   "source": [
    "Алгоритм BaselineOnly"
   ]
  },
  {
   "cell_type": "code",
   "execution_count": 6,
   "metadata": {},
   "outputs": [
    {
     "name": "stdout",
     "output_type": "stream",
     "text": [
      "Estimating biases using als...\n",
      "CPU times: user 559 ms, sys: 3.76 ms, total: 563 ms\n",
      "Wall time: 711 ms\n"
     ]
    }
   ],
   "source": [
    "%%time\n",
    "algo_BaselineOnly = BaselineOnly()\n",
    "algo_BaselineOnly.fit(train_df)"
   ]
  },
  {
   "cell_type": "markdown",
   "metadata": {},
   "source": [
    "Алгоритм KNNWithMeans"
   ]
  },
  {
   "cell_type": "code",
   "execution_count": 7,
   "metadata": {},
   "outputs": [
    {
     "name": "stdout",
     "output_type": "stream",
     "text": [
      "Computing the msd similarity matrix...\n",
      "Done computing similarity matrix.\n",
      "CPU times: user 1.56 s, sys: 51 ms, total: 1.61 s\n",
      "Wall time: 1.98 s\n"
     ]
    }
   ],
   "source": [
    "%%time\n",
    "algo_KNNWithMeans = KNNWithMeans()\n",
    "algo_KNNWithMeans.fit(train_df)"
   ]
  },
  {
   "cell_type": "markdown",
   "metadata": {},
   "source": [
    "Построим предсказания этих алгортимов на обучающей выборке для мета-алгоритма и тестовой выборке"
   ]
  },
  {
   "cell_type": "code",
   "execution_count": 8,
   "metadata": {},
   "outputs": [],
   "source": [
    "def get_estimates_all_algo(df, algo_SVD, algo_BaselineOnly, algo_KNNWithMeans):\n",
    "    '''\n",
    "    Возвращает датафрейм с оценками по всем алгоритмам\n",
    "    '''\n",
    "    estimates = []\n",
    "    scores_SVD = []\n",
    "    scores_BaselineOnly = []\n",
    "    scores_KNNWithMeans = []\n",
    "\n",
    "    for uid, iid, estimate in df:\n",
    "        scores_SVD.append(algo_SVD.predict(uid=uid, iid=iid).est)\n",
    "        scores_BaselineOnly.append(algo_BaselineOnly.predict(uid=uid, iid=iid).est)\n",
    "        scores_KNNWithMeans.append(algo_KNNWithMeans.predict(uid=uid, iid=iid).est)\n",
    "        estimates.append(estimate)\n",
    "    \n",
    "    res = pd.DataFrame({\n",
    "        'estimates': estimates,\n",
    "        'score_SVD': scores_SVD,\n",
    "        'score_BaselineOnly': scores_BaselineOnly,\n",
    "        'score_KNNWithMeans': scores_KNNWithMeans\n",
    "    })\n",
    "\n",
    "    return res"
   ]
  },
  {
   "cell_type": "code",
   "execution_count": 9,
   "metadata": {},
   "outputs": [
    {
     "data": {
      "text/html": [
       "<div>\n",
       "<style scoped>\n",
       "    .dataframe tbody tr th:only-of-type {\n",
       "        vertical-align: middle;\n",
       "    }\n",
       "\n",
       "    .dataframe tbody tr th {\n",
       "        vertical-align: top;\n",
       "    }\n",
       "\n",
       "    .dataframe thead th {\n",
       "        text-align: right;\n",
       "    }\n",
       "</style>\n",
       "<table border=\"1\" class=\"dataframe\">\n",
       "  <thead>\n",
       "    <tr style=\"text-align: right;\">\n",
       "      <th></th>\n",
       "      <th>estimates</th>\n",
       "      <th>score_SVD</th>\n",
       "      <th>score_BaselineOnly</th>\n",
       "      <th>score_KNNWithMeans</th>\n",
       "    </tr>\n",
       "  </thead>\n",
       "  <tbody>\n",
       "    <tr>\n",
       "      <th>0</th>\n",
       "      <td>4.0</td>\n",
       "      <td>4.462999</td>\n",
       "      <td>4.350391</td>\n",
       "      <td>4.272162</td>\n",
       "    </tr>\n",
       "    <tr>\n",
       "      <th>1</th>\n",
       "      <td>4.0</td>\n",
       "      <td>3.401721</td>\n",
       "      <td>3.320642</td>\n",
       "      <td>3.571164</td>\n",
       "    </tr>\n",
       "    <tr>\n",
       "      <th>2</th>\n",
       "      <td>4.0</td>\n",
       "      <td>3.292835</td>\n",
       "      <td>3.289137</td>\n",
       "      <td>3.807549</td>\n",
       "    </tr>\n",
       "    <tr>\n",
       "      <th>3</th>\n",
       "      <td>3.0</td>\n",
       "      <td>3.752698</td>\n",
       "      <td>3.756246</td>\n",
       "      <td>3.777072</td>\n",
       "    </tr>\n",
       "    <tr>\n",
       "      <th>4</th>\n",
       "      <td>4.0</td>\n",
       "      <td>2.639299</td>\n",
       "      <td>2.827124</td>\n",
       "      <td>2.338617</td>\n",
       "    </tr>\n",
       "  </tbody>\n",
       "</table>\n",
       "</div>"
      ],
      "text/plain": [
       "   estimates  score_SVD  score_BaselineOnly  score_KNNWithMeans\n",
       "0        4.0   4.462999            4.350391            4.272162\n",
       "1        4.0   3.401721            3.320642            3.571164\n",
       "2        4.0   3.292835            3.289137            3.807549\n",
       "3        3.0   3.752698            3.756246            3.777072\n",
       "4        4.0   2.639299            2.827124            2.338617"
      ]
     },
     "execution_count": 9,
     "metadata": {},
     "output_type": "execute_result"
    }
   ],
   "source": [
    "meta_train_scores = get_estimates_all_algo(test_meta_df, algo_SVD, algo_BaselineOnly, algo_KNNWithMeans)\n",
    "meta_train_scores.head()"
   ]
  },
  {
   "cell_type": "code",
   "execution_count": 10,
   "metadata": {},
   "outputs": [
    {
     "data": {
      "text/html": [
       "<div>\n",
       "<style scoped>\n",
       "    .dataframe tbody tr th:only-of-type {\n",
       "        vertical-align: middle;\n",
       "    }\n",
       "\n",
       "    .dataframe tbody tr th {\n",
       "        vertical-align: top;\n",
       "    }\n",
       "\n",
       "    .dataframe thead th {\n",
       "        text-align: right;\n",
       "    }\n",
       "</style>\n",
       "<table border=\"1\" class=\"dataframe\">\n",
       "  <thead>\n",
       "    <tr style=\"text-align: right;\">\n",
       "      <th></th>\n",
       "      <th>estimates</th>\n",
       "      <th>score_SVD</th>\n",
       "      <th>score_BaselineOnly</th>\n",
       "      <th>score_KNNWithMeans</th>\n",
       "    </tr>\n",
       "  </thead>\n",
       "  <tbody>\n",
       "    <tr>\n",
       "      <th>0</th>\n",
       "      <td>3.0</td>\n",
       "      <td>3.051589</td>\n",
       "      <td>3.670966</td>\n",
       "      <td>3.830858</td>\n",
       "    </tr>\n",
       "    <tr>\n",
       "      <th>1</th>\n",
       "      <td>5.0</td>\n",
       "      <td>4.361444</td>\n",
       "      <td>4.221002</td>\n",
       "      <td>4.653053</td>\n",
       "    </tr>\n",
       "    <tr>\n",
       "      <th>2</th>\n",
       "      <td>3.0</td>\n",
       "      <td>3.503591</td>\n",
       "      <td>3.882559</td>\n",
       "      <td>3.757264</td>\n",
       "    </tr>\n",
       "    <tr>\n",
       "      <th>3</th>\n",
       "      <td>4.0</td>\n",
       "      <td>3.298950</td>\n",
       "      <td>3.363793</td>\n",
       "      <td>3.471830</td>\n",
       "    </tr>\n",
       "    <tr>\n",
       "      <th>4</th>\n",
       "      <td>4.0</td>\n",
       "      <td>4.060819</td>\n",
       "      <td>3.922160</td>\n",
       "      <td>3.510769</td>\n",
       "    </tr>\n",
       "  </tbody>\n",
       "</table>\n",
       "</div>"
      ],
      "text/plain": [
       "   estimates  score_SVD  score_BaselineOnly  score_KNNWithMeans\n",
       "0        3.0   3.051589            3.670966            3.830858\n",
       "1        5.0   4.361444            4.221002            4.653053\n",
       "2        3.0   3.503591            3.882559            3.757264\n",
       "3        4.0   3.298950            3.363793            3.471830\n",
       "4        4.0   4.060819            3.922160            3.510769"
      ]
     },
     "execution_count": 10,
     "metadata": {},
     "output_type": "execute_result"
    }
   ],
   "source": [
    "test_scores = get_estimates_all_algo(test_total_df, algo_SVD, algo_BaselineOnly, algo_KNNWithMeans)\n",
    "test_scores.head()"
   ]
  },
  {
   "cell_type": "markdown",
   "metadata": {},
   "source": [
    "Строим линейную регрессию на 3х алгоритмах."
   ]
  },
  {
   "cell_type": "code",
   "execution_count": 11,
   "metadata": {},
   "outputs": [],
   "source": [
    "X_train = meta_train_scores[['score_SVD', 'score_BaselineOnly', 'score_KNNWithMeans']]\n",
    "y_train = meta_train_scores.estimates\n",
    "X_test = test_scores[['score_SVD', 'score_BaselineOnly', 'score_KNNWithMeans']]\n",
    "y_test = test_scores.estimates"
   ]
  },
  {
   "cell_type": "code",
   "execution_count": 12,
   "metadata": {},
   "outputs": [
    {
     "data": {
      "text/plain": [
       "LinearRegression(copy_X=True, fit_intercept=True, n_jobs=None,\n",
       "         normalize=False)"
      ]
     },
     "execution_count": 12,
     "metadata": {},
     "output_type": "execute_result"
    }
   ],
   "source": [
    "meta_model = LinearRegression()\n",
    "meta_model.fit(X_train, y_train)"
   ]
  },
  {
   "cell_type": "code",
   "execution_count": 13,
   "metadata": {},
   "outputs": [
    {
     "data": {
      "text/plain": [
       "array([0.59215656, 0.18945408, 0.2443104 ])"
      ]
     },
     "execution_count": 13,
     "metadata": {},
     "output_type": "execute_result"
    }
   ],
   "source": [
    "meta_model.coef_"
   ]
  },
  {
   "cell_type": "markdown",
   "metadata": {},
   "source": [
    "Проверим точность гибридного алгоритма по метрике RMSE"
   ]
  },
  {
   "cell_type": "code",
   "execution_count": 14,
   "metadata": {},
   "outputs": [
    {
     "name": "stdout",
     "output_type": "stream",
     "text": [
      "RMSE алгоритма SVD: 0.9645\n",
      "RMSE алгоритма BaselineOnly: 0.9677\n",
      "RMSE алгоритма KNNWithMeans: 0.9775\n",
      "RMSE гибридного алгоритма: 0.9574\n"
     ]
    }
   ],
   "source": [
    "total_model_RMSE = math.sqrt(mean_squared_error(y_test, meta_model.predict(X_test)))\n",
    "SVD_RMSE = accuracy.rmse(algo_SVD.test(test_total_df), verbose = False)\n",
    "BaselineOnly_RMSE = accuracy.rmse(algo_BaselineOnly.test(test_total_df), verbose = False)\n",
    "KNNWithMeans_RMSE = accuracy.rmse(algo_KNNWithMeans.test(test_total_df), verbose = False)\n",
    "\n",
    "print('RMSE алгоритма SVD: {:.4f}'.format(SVD_RMSE))\n",
    "print('RMSE алгоритма BaselineOnly: {:.4f}'.format(BaselineOnly_RMSE))\n",
    "print('RMSE алгоритма KNNWithMeans: {:.4f}'.format(KNNWithMeans_RMSE))\n",
    "print('RMSE гибридного алгоритма: {:.4f}'.format(total_model_RMSE))"
   ]
  },
  {
   "cell_type": "markdown",
   "metadata": {},
   "source": [
    "**Вывод:** Применение гибридных алгоритмов повышает качество рекомендаций."
   ]
  }
 ],
 "metadata": {
  "kernelspec": {
   "display_name": "Python 3",
   "language": "python",
   "name": "python3"
  },
  "language_info": {
   "codemirror_mode": {
    "name": "ipython",
    "version": 3
   },
   "file_extension": ".py",
   "mimetype": "text/x-python",
   "name": "python",
   "nbconvert_exporter": "python",
   "pygments_lexer": "ipython3",
   "version": "3.7.3"
  }
 },
 "nbformat": 4,
 "nbformat_minor": 2
}
